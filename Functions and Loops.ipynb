{
 "cells": [
  {
   "cell_type": "code",
   "execution_count": 9,
   "metadata": {},
   "outputs": [],
   "source": [
    "def fractional_part(numerator, denominator):\n",
    "    # Operate with numerator and denominator to keep just the fractional part of the quotient\n",
    "    if denominator != 0:\n",
    "        return numerator / denominator - numerator // denominator\n",
    "    return 0"
   ]
  },
  {
   "cell_type": "code",
   "execution_count": 10,
   "metadata": {},
   "outputs": [
    {
     "data": {
      "text/plain": [
       "0.0"
      ]
     },
     "execution_count": 10,
     "metadata": {},
     "output_type": "execute_result"
    }
   ],
   "source": [
    "fractional_part(5, 5)"
   ]
  },
  {
   "cell_type": "code",
   "execution_count": 37,
   "metadata": {},
   "outputs": [],
   "source": [
    "def format_name(first_name, last_name):\n",
    "\n",
    "    string = \"Name: \" + last_name + \", \" + first_name\n",
    "    if first_name == \"\" and last_name == \"\":\n",
    "        return \"\"\n",
    "    elif first_name == \"\":\n",
    "        return \"Name: \" + last_name\n",
    "    elif last_name == \"\":\n",
    "        return \"Name: \" + first_name \n",
    "    return string"
   ]
  },
  {
   "cell_type": "code",
   "execution_count": 38,
   "metadata": {},
   "outputs": [
    {
     "name": "stdout",
     "output_type": "stream",
     "text": [
      "Name: Hemingway, Ernest\n",
      "Name: Madonna\n",
      "Name: Voltaire\n",
      "\n"
     ]
    }
   ],
   "source": [
    "print(format_name(\"Ernest\", \"Hemingway\"))\n",
    "# Should return the string \"Name: Hemingway, Ernest\"\n",
    "\n",
    "print(format_name(\"\", \"Madonna\"))\n",
    "# Should return the string \"Name: Madonna\"\n",
    "\n",
    "print(format_name(\"Voltaire\", \"\"))\n",
    "# Should return the string \"Name: Voltaire\"\n",
    "\n",
    "print(format_name(\"\", \"\"))\n",
    "# Should return an empty string"
   ]
  },
  {
   "cell_type": "code",
   "execution_count": 39,
   "metadata": {},
   "outputs": [
    {
     "name": "stdout",
     "output_type": "stream",
     "text": [
      "Not there yet, x = 0\n",
      "Not there yet, x = 1\n",
      "Not there yet, x = 2\n",
      "Not there yet, x = 3\n",
      "Not there yet, x = 4\n",
      "x = 5\n"
     ]
    }
   ],
   "source": [
    "x = 0\n",
    "while x < 5:\n",
    "    print(\"Not there yet, x = \" + str(x))\n",
    "    x += 1\n",
    "print(\"x = \" + str(x))"
   ]
  },
  {
   "cell_type": "code",
   "execution_count": 232,
   "metadata": {},
   "outputs": [
    {
     "data": {
      "text/plain": [
       "55"
      ]
     },
     "execution_count": 232,
     "metadata": {},
     "output_type": "execute_result"
    }
   ],
   "source": [
    "def printDivisors(n) : \n",
    "    sum = 0\n",
    "    i = 1\n",
    "    while i < n : \n",
    "        if (n % i == 0) : \n",
    "            sum += i             \n",
    "        i = i + 1\n",
    "    return sum\n",
    "          \n",
    "# Driver method \n",
    "printDivisors(36) "
   ]
  },
  {
   "cell_type": "code",
   "execution_count": 61,
   "metadata": {},
   "outputs": [
    {
     "name": "stdout",
     "output_type": "stream",
     "text": [
      "3x1=3\n",
      "3x2=6\n",
      "3x3=9\n",
      "3x4=12\n",
      "3x5=15\n",
      "5x1=5\n",
      "5x2=10\n",
      "5x3=15\n",
      "5x4=20\n",
      "5x5=25\n",
      "8x1=8\n",
      "8x2=16\n",
      "8x3=24\n"
     ]
    }
   ],
   "source": [
    "'''The multiplication_table function prints the results of a number passed to it multiplied by 1 \n",
    "through 5. An additional requirement is that the result is not to exceed 25, which is done with the \n",
    "break statement. Fill in the blanks to complete the function to satisfy these conditions.'''\n",
    "\n",
    "def multiplication_table(number):\n",
    "    # Initialize the starting point of the multiplication table\n",
    "    multiplier = 1\n",
    "    # Only want to loop through 5\n",
    "    while multiplier <= 5:\n",
    "        result = number * multiplier \n",
    "        # What is the additional condition to exit out of the loop?\n",
    "        if result > 25 :\n",
    "            break\n",
    "        print(str(number) + \"x\" + str(multiplier) + \"=\" + str(result))\n",
    "        # Increment the variable for the loop\n",
    "        multiplier += 1\n",
    "\n",
    "multiplication_table(3) \n",
    "# Should print: 3x1=3 3x2=6 3x3=9 3x4=12 3x5=15\n",
    "\n",
    "multiplication_table(5) \n",
    "# Should print: 5x1=5 5x2=10 5x3=15 5x4=20 5x5=25\n",
    "\n",
    "multiplication_table(8)\t\n",
    "# Should print: 8x1=8 8x2=16 8x3=24"
   ]
  },
  {
   "cell_type": "code",
   "execution_count": 62,
   "metadata": {},
   "outputs": [
    {
     "name": "stdout",
     "output_type": "stream",
     "text": [
      "0\n",
      "1\n",
      "2\n",
      "3\n",
      "4\n"
     ]
    }
   ],
   "source": [
    "for x in range(5):\n",
    "    print(x)"
   ]
  },
  {
   "cell_type": "code",
   "execution_count": 63,
   "metadata": {},
   "outputs": [],
   "source": [
    "'''Fill in the gaps of the sum_squares function, so that it returns the sum of all the squares of \n",
    "numbers between 0 and x (not included). Remember that you can use the range(x) function to generate \n",
    "a sequence of numbers from 0 to x (not included).'''\n",
    "\n",
    "def square(n):\n",
    "    return n*n\n",
    "\n",
    "def sum_squares(x):\n",
    "    sum = 0\n",
    "    for n in range(x):\n",
    "        sum += square(n)\n",
    "    return sum\n"
   ]
  },
  {
   "cell_type": "code",
   "execution_count": 67,
   "metadata": {},
   "outputs": [
    {
     "data": {
      "text/plain": [
       "30"
      ]
     },
     "execution_count": 67,
     "metadata": {},
     "output_type": "execute_result"
    }
   ],
   "source": [
    "sum_squares(5)"
   ]
  },
  {
   "cell_type": "markdown",
   "metadata": {},
   "source": [
    "### For Loops vs. While Loops and If Statements\n",
    "Similar to if statements and while loops, for loops begin with the keyword for with a colon at the end of the line. Just like in function definitions, while loops and if statements, the body of the for loop begins on the next line and is indented to the right. But what about the stuff in between the for keyword and the colon? In our example, we’re using the range() function to create a sequence of numbers that our for loop can iterate over. In this case, our variable x points to the current element in the sequence as the for loop iterates over the sequence of numbers. Keep in mind that in Python and many programming languages, a range of numbers will start at 0, and the list of numbers generated will be one less than the provided value. So range(5) will generate a sequence of numbers from 0 to 4, for a total of 5 numbers.\n",
    "\n",
    "Bringing this all together, the range(5) function will create a sequence of numbers from 0 to 4. Our for loop will iterate over this sequence of numbers, one at a time, making the numbers accessible via the variable x and the code within our loop body will execute for each iteration through the sequence. So for the first loop, x will contain 0, the next loop, 1, and so on until it reaches 4. Once the end of the sequence comes up, the loop will exit and the code will continue.\n",
    "\n",
    "The power of for loops comes from the fact that it can iterate over a sequence of any kind of data, not just a range of numbers. You can use for loops to iterate over a list of strings, such as usernames or lines in a file.\n",
    "\n",
    "Not sure whether to use a for loop or a while loop? Remember that a while loop is great for performing an action over and over until a condition has changed. A for loop works well when you want to iterate over a sequence of elements."
   ]
  },
  {
   "cell_type": "code",
   "execution_count": 68,
   "metadata": {},
   "outputs": [
    {
     "name": "stdout",
     "output_type": "stream",
     "text": [
      "1\n",
      "2\n",
      "3\n"
     ]
    }
   ],
   "source": [
    "for x in range(1,4):\n",
    "    print(x)"
   ]
  },
  {
   "cell_type": "markdown",
   "metadata": {},
   "source": [
    "The factorial of a number is defined as the product of an integer and all the integers below it. For example, the factorial of four (4!) is equal to 1*2*3*4=24."
   ]
  },
  {
   "cell_type": "code",
   "execution_count": 70,
   "metadata": {},
   "outputs": [
    {
     "name": "stdout",
     "output_type": "stream",
     "text": [
      "24\n",
      "120\n"
     ]
    }
   ],
   "source": [
    "def factorial(n):\n",
    "    result = 1\n",
    "    for i in range(1, n+1):\n",
    "        result = result * i\n",
    "    return result\n",
    "\n",
    "print(factorial(4)) # should return 24\n",
    "print(factorial(5)) # should return 120"
   ]
  },
  {
   "cell_type": "code",
   "execution_count": 71,
   "metadata": {},
   "outputs": [
    {
     "data": {
      "text/plain": [
       "120"
      ]
     },
     "execution_count": 71,
     "metadata": {},
     "output_type": "execute_result"
    }
   ],
   "source": [
    "5*4*3*2"
   ]
  },
  {
   "cell_type": "code",
   "execution_count": 73,
   "metadata": {},
   "outputs": [
    {
     "name": "stdout",
     "output_type": "stream",
     "text": [
      "0\n",
      "10\n",
      "20\n",
      "30\n",
      "40\n",
      "50\n",
      "60\n",
      "70\n",
      "80\n",
      "90\n",
      "100\n"
     ]
    }
   ],
   "source": [
    "# Steps of 10\n",
    "for x in range(0,101,10):\n",
    "    print(x)"
   ]
  },
  {
   "cell_type": "code",
   "execution_count": 74,
   "metadata": {},
   "outputs": [
    {
     "data": {
      "text/plain": [
       "100.0"
      ]
     },
     "execution_count": 74,
     "metadata": {},
     "output_type": "execute_result"
    }
   ],
   "source": [
    "# Convert temperature from F to C\n",
    "def to_celsius(x):\n",
    "    return (x - 32) * 5/9\n",
    "to_celsius(212)"
   ]
  },
  {
   "cell_type": "code",
   "execution_count": 245,
   "metadata": {},
   "outputs": [
    {
     "name": "stdout",
     "output_type": "stream",
     "text": [
      "  0 F | -17.78 C\n",
      " 10 F | -12.22 C\n",
      " 20 F |  -6.67 C\n",
      " 30 F |  -1.11 C\n",
      " 40 F |   4.44 C\n",
      " 50 F |  10.00 C\n",
      " 60 F |  15.56 C\n",
      " 70 F |  21.11 C\n",
      " 80 F |  26.67 C\n",
      " 90 F |  32.22 C\n",
      "100 F |  37.78 C\n"
     ]
    }
   ],
   "source": [
    "# Convert temperature from F to C using the above function. Convert temperature between 0 and 100 F \n",
    "# with an increment of 10 F\n",
    "for temp_F in range(0,101,10):\n",
    "    print(\"{:>3} F | {:6.2f} C\".format(temp_F, to_celsius(temp_F)))"
   ]
  },
  {
   "cell_type": "markdown",
   "metadata": {},
   "source": [
    "### Range() Function\n",
    "Previously we had used the range() function by passing it a single parameter, and it generated a sequence of numbers from 0 to one less than we specified. But the range() function can do much more than that. We can pass in two parameters: the first specifying our starting point, the second specifying the end point. Don't forget that the sequence generated won't contain the last element; it will stop one before the parameter specified.\n",
    "\n",
    "The range() function can take a third parameter, too. This third parameter lets you  alter the size of each step. So instead of creating a sequence of numbers incremented by 1, you can generate a sequence of numbers that are incremented by 5.\n",
    "\n",
    "To quickly recap the range() function when passing one, two, or three parameters:\n",
    "\n",
    "One parameter will create a sequence, one-by-one, from zero to one less than the parameter.\n",
    "Two parameters will create a sequence, one-by-one, from the first parameter to one less than the second parameter.\n",
    "Three parameters will create a sequence starting with the first parameter and stopping before the second parameter, but this time increasing each step by the third parameter."
   ]
  },
  {
   "cell_type": "code",
   "execution_count": 83,
   "metadata": {},
   "outputs": [
    {
     "name": "stdout",
     "output_type": "stream",
     "text": [
      "[0|0] [0|1] [0|2] [0|3] [0|4] [0|5] [0|6] \n",
      "[1|1] [1|2] [1|3] [1|4] [1|5] [1|6] \n",
      "[2|2] [2|3] [2|4] [2|5] [2|6] \n",
      "[3|3] [3|4] [3|5] [3|6] \n",
      "[4|4] [4|5] [4|6] \n",
      "[5|5] [5|6] \n",
      "[6|6] \n"
     ]
    }
   ],
   "source": [
    "# Nested For loops. end parameter (end = \" \") is used to print a newline character. If something else\n",
    "# for example a , use end = \",\"\n",
    "for left in range(0, 7):\n",
    "    for right in range(left, 7):\n",
    "        print(\"[\" + str(left) + \"|\" + str(right) + \"]\", end = \" \")\n",
    "    print()"
   ]
  },
  {
   "cell_type": "code",
   "execution_count": 97,
   "metadata": {},
   "outputs": [
    {
     "name": "stdout",
     "output_type": "stream",
     "text": [
      "[Dragons, Wolves] [Dragons, Pandas] [Dragons, Unicorns] \n",
      "[Wolves, Dragons] [Wolves, Pandas] [Wolves, Unicorns] \n",
      "[Pandas, Dragons] [Pandas, Wolves] [Pandas, Unicorns] \n",
      "[Unicorns, Dragons] [Unicorns, Wolves] [Unicorns, Pandas] \n"
     ]
    }
   ],
   "source": [
    "teams = ['Dragons', 'Wolves', 'Pandas', 'Unicorns']\n",
    "# Print all possible team pairings but exclude those where a team would play against itself. \n",
    "# To do that, we need a conditional that skips the case where both teams are the same.\n",
    "for home_team in teams:\n",
    "    for away_team in teams:\n",
    "        if home_team != away_team:\n",
    "            print(\"[\" + home_team + \",\" + \" \" + away_team + \"]\", end=\" \")\n",
    "    print()"
   ]
  },
  {
   "cell_type": "code",
   "execution_count": 100,
   "metadata": {},
   "outputs": [
    {
     "name": "stdout",
     "output_type": "stream",
     "text": [
      "purplecat is valid\n"
     ]
    }
   ],
   "source": [
    "'''The validate_users function is used by the system to check if a list of users is valid or invalid. \n",
    "A valid user is one that is at least 3 characters long. For example, ['taylor', 'luisa', 'jamaal'] \n",
    "are all valid users.'''\n",
    "\n",
    "def validate_users(users):\n",
    "    for user in [users]:\n",
    "        if len(user) >= 3:\n",
    "            print(user + \" is valid\")\n",
    "        else:\n",
    "            print(user + \" is invalid\")\n",
    "\n",
    "validate_users(\"purplecat\")"
   ]
  },
  {
   "cell_type": "markdown",
   "metadata": {},
   "source": [
    "### Summary of Loops\n",
    "\n",
    "##### While Loops\n",
    "A while loop executes the body of the loop while the condition remains True.\n",
    "\n",
    "Syntax:\n",
    "\n",
    "```python\n",
    "while condition:\n",
    "    body\n",
    "```\n",
    "    \n",
    "Things to watch out for!\n",
    "\n",
    "- Failure to initialize variables. Make sure all the variables used in the loop’s condition  are initialized before the loop.\n",
    "- Unintended infinite loops. Make sure that the body of the loop modifies the variables used in the condition, so that the loop will eventually end for all possible values of the variables.\n",
    "\n",
    "Typical use:\n",
    "\n",
    "While loops are mostly used when there’s an unknown number of operations to be performed, and a condition needs to be checked at each iteration.\n",
    "\n",
    "##### For Loops\n",
    "A for loop iterates over a sequence of elements, executing the body of the loop for each element in the sequence.\n",
    "\n",
    "Syntax:\n",
    "```python\n",
    "for variable in sequence:\n",
    "    body\n",
    "```\n",
    "The range() function:\n",
    "\n",
    "range() generates a sequence of integer numbers. It can take one, two, or three parameters:\n",
    "\n",
    "- range(n): 0, 1, 2, ... n-1\n",
    "- range(x,y): x, x+1, x+2, ... y-1\n",
    "- range(p,q,r): p, p+r, p+2r, p+3r, ... q-1 (if it's a valid increment)\n",
    "\n",
    "Common pitfalls:\n",
    "\n",
    "- Forgetting that the upper limit of a range() isn’t included.\n",
    "- Iterating over non-sequences. Integer numbers aren’t iterable. Strings are iterable letter by letter, but that might not be what you want.\n",
    "\n",
    "Typical use:\n",
    "\n",
    "For loops are mostly used when there's a pre-defined sequence or range of numbers to iterate.\n",
    "\n",
    "##### Break & Continue\n",
    "You can interrupt both while and for loops using the break keyword. We normally do this to interrupt a cycle due to a separate condition.\n",
    "\n",
    "You can use the continue keyword to skip the current iteration and continue with the next one. This is typically used to jump ahead when some of the elements of the sequence aren’t relevant.\n",
    "\n",
    "If you want to learn more, check out this <a href=\"https://wiki.python.org/moin/ForLoop\" target=\"_blank\">wiki page on for loops</a>"
   ]
  },
  {
   "cell_type": "code",
   "execution_count": 107,
   "metadata": {},
   "outputs": [],
   "source": [
    "def factorial(n):\n",
    "    result = 1\n",
    "    \n",
    "    for x in range(1,n+1):\n",
    "        result = result * x\n",
    "    return result"
   ]
  },
  {
   "cell_type": "code",
   "execution_count": 111,
   "metadata": {},
   "outputs": [
    {
     "data": {
      "text/plain": [
       "6"
      ]
     },
     "execution_count": 111,
     "metadata": {},
     "output_type": "execute_result"
    }
   ],
   "source": [
    "factorial(3)"
   ]
  },
  {
   "cell_type": "code",
   "execution_count": 112,
   "metadata": {},
   "outputs": [
    {
     "name": "stdout",
     "output_type": "stream",
     "text": [
      "0 1\n",
      "1 1\n",
      "2 2\n",
      "3 6\n",
      "4 24\n",
      "5 120\n",
      "6 720\n",
      "7 5040\n",
      "8 40320\n",
      "9 362880\n"
     ]
    }
   ],
   "source": [
    "for n in range(10):\n",
    "    print(n, factorial(n))"
   ]
  },
  {
   "cell_type": "markdown",
   "metadata": {},
   "source": [
    "Write a script that prints the multiples of 7 between 0 and 100. Print one multiple per line and avoid printing any numbers that aren't multiples of 7. Remember that 0 is also a multiple of 7."
   ]
  },
  {
   "cell_type": "code",
   "execution_count": 134,
   "metadata": {},
   "outputs": [],
   "source": [
    "# Writing the factorial function using recursion\n",
    "def factorial(n):\n",
    "    if n < 2:\n",
    "        return 1\n",
    "    return n * factorial(n-1)"
   ]
  },
  {
   "cell_type": "code",
   "execution_count": 135,
   "metadata": {},
   "outputs": [
    {
     "data": {
      "text/plain": [
       "1"
      ]
     },
     "execution_count": 135,
     "metadata": {},
     "output_type": "execute_result"
    }
   ],
   "source": [
    "factorial(0)"
   ]
  },
  {
   "cell_type": "code",
   "execution_count": 137,
   "metadata": {},
   "outputs": [
    {
     "data": {
      "text/plain": [
       "6"
      ]
     },
     "execution_count": 137,
     "metadata": {},
     "output_type": "execute_result"
    }
   ],
   "source": [
    "factorial(3)"
   ]
  },
  {
   "cell_type": "code",
   "execution_count": 138,
   "metadata": {},
   "outputs": [],
   "source": [
    "# Recursive functions\n",
    "def sum_positive_numbers(n):\n",
    "    if n < 1:\n",
    "        return 0\n",
    "    return n + sum_positive_numbers(n-1)"
   ]
  },
  {
   "cell_type": "code",
   "execution_count": 142,
   "metadata": {},
   "outputs": [
    {
     "data": {
      "text/plain": [
       "15"
      ]
     },
     "execution_count": 142,
     "metadata": {},
     "output_type": "execute_result"
    }
   ],
   "source": [
    "sum_positive_numbers(5)"
   ]
  },
  {
   "cell_type": "code",
   "execution_count": 157,
   "metadata": {},
   "outputs": [],
   "source": [
    "def is_power(number, base):\n",
    "    if number < base:\n",
    "        return number == 1\n",
    "    return is_power(number // base, base)"
   ]
  },
  {
   "cell_type": "code",
   "execution_count": 158,
   "metadata": {},
   "outputs": [
    {
     "data": {
      "text/plain": [
       "True"
      ]
     },
     "execution_count": 158,
     "metadata": {},
     "output_type": "execute_result"
    }
   ],
   "source": [
    "is_power(8, 2)"
   ]
  },
  {
   "cell_type": "code",
   "execution_count": 159,
   "metadata": {},
   "outputs": [
    {
     "data": {
      "text/plain": [
       "False"
      ]
     },
     "execution_count": 159,
     "metadata": {},
     "output_type": "execute_result"
    }
   ],
   "source": [
    "is_power(70, 10)"
   ]
  },
  {
   "cell_type": "code",
   "execution_count": 160,
   "metadata": {},
   "outputs": [
    {
     "name": "stdout",
     "output_type": "stream",
     "text": [
      "2\n",
      "3\n",
      "4\n",
      "1\n"
     ]
    }
   ],
   "source": [
    "'''the function digits(n) that returns how many digits the number has. For example: 25 has 2 digits \n",
    "and 144 has 3 digits. Tip: you can figure out the digits of a number by dividing it by 10 once per \n",
    "digit until there are no digits left.'''\n",
    "\n",
    "def digits(n):\n",
    "    count = 0\n",
    "    if n == 0:\n",
    "        return 1\n",
    "    while (n > 0):\n",
    "        count += 1\n",
    "        n = n // 10\n",
    "    return count\n",
    "\n",
    "print(digits(25))   # Should print 2\n",
    "print(digits(144))  # Should print 3\n",
    "print(digits(1000)) # Should print 4\n",
    "print(digits(0))    # Should print 1"
   ]
  },
  {
   "cell_type": "code",
   "execution_count": 233,
   "metadata": {},
   "outputs": [
    {
     "name": "stdout",
     "output_type": "stream",
     "text": [
      "1 2 3 \n",
      "2 4 6 \n",
      "3 6 9 \n"
     ]
    }
   ],
   "source": [
    "'''The multiplication_table function prints out a multiplication table (where each number is the \n",
    "result of multiplying the first number of its row by the number at the top of its column)'''\n",
    "\n",
    "def multiplication_table(start, stop):\n",
    "    for x in range(start,stop+1):\n",
    "        for y in range(start, stop + 1):\n",
    "            print(str(x*y), end=\" \")\n",
    "        print()\n",
    "\n",
    "multiplication_table(1, 3)"
   ]
  },
  {
   "cell_type": "code",
   "execution_count": 228,
   "metadata": {},
   "outputs": [
    {
     "name": "stdout",
     "output_type": "stream",
     "text": [
      "True\n",
      "False\n",
      "True\n"
     ]
    }
   ],
   "source": [
    "# Return true if the first and last characters in the string are the same. Otherwise, return false.\n",
    "# For an empty string, return true.\n",
    "def first_and_last(message):\n",
    "    return message == \"\" or message[0] == message[-1]\n",
    "\n",
    "print(first_and_last(\"else\"))\n",
    "print(first_and_last(\"tree\"))\n",
    "print(first_and_last(\"\"))"
   ]
  },
  {
   "cell_type": "code",
   "execution_count": 243,
   "metadata": {},
   "outputs": [],
   "source": [
    "def counter(start, stop):\n",
    "\tx = start\n",
    "\tif start > stop:\n",
    "\t\treturn_string = \"Counting down: \"\n",
    "\t\twhile x >= stop:\n",
    "\t\t\treturn_string += str(x)\n",
    "\t\t\tif start != stop:\n",
    "\t\t\t\treturn_string += \",\"\n",
    "\t\t\tx = x - 1\n",
    "\telse:\n",
    "\t\treturn_string = \"Counting up: \"\n",
    "\t\twhile x <= stop:\n",
    "\t\t\treturn_string += str(x)\n",
    "\t\t\tif start != stop:\n",
    "\t\t\t\treturn_string += \",\"\n",
    "\t\t\tx = x + 1\n",
    "\treturn return_string.rstrip(',')"
   ]
  },
  {
   "cell_type": "code",
   "execution_count": 244,
   "metadata": {},
   "outputs": [
    {
     "name": "stdout",
     "output_type": "stream",
     "text": [
      "Counting up: 1,2,3,4,5,6,7,8,9,10\n",
      "Counting down: 2,1\n",
      "Counting up: 5\n"
     ]
    }
   ],
   "source": [
    "print(counter(1, 10)) # Should be \"Counting up: 1,2,3,4,5,6,7,8,9,10\"\n",
    "print(counter(2, 1)) # Should be \"Counting down: 2,1\"\n",
    "print(counter(5, 5))"
   ]
  },
  {
   "cell_type": "code",
   "execution_count": null,
   "metadata": {},
   "outputs": [],
   "source": []
  }
 ],
 "metadata": {
  "kernelspec": {
   "display_name": "Python 3",
   "language": "python",
   "name": "python3"
  },
  "language_info": {
   "codemirror_mode": {
    "name": "ipython",
    "version": 3
   },
   "file_extension": ".py",
   "mimetype": "text/x-python",
   "name": "python",
   "nbconvert_exporter": "python",
   "pygments_lexer": "ipython3",
   "version": "3.7.3"
  }
 },
 "nbformat": 4,
 "nbformat_minor": 2
}

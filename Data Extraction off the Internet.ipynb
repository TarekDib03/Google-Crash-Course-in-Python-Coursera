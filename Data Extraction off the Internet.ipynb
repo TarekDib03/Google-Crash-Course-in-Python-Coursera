{
 "cells": [
  {
   "cell_type": "markdown",
   "metadata": {},
   "source": [
    "### Panda's DataFrame"
   ]
  },
  {
   "cell_type": "code",
   "execution_count": 6,
   "metadata": {},
   "outputs": [],
   "source": [
    "# Creating a dataframe using Panda's DataFrame method\n",
    "import pandas as pd\n",
    "\n",
    "# Input data\n",
    "inputData = {\"Data1\": range(1,5),\n",
    "             \"Data2\": range(5,9),\n",
    "             \"Data3\": range(9,13)}\n",
    "\n",
    "df = pd.DataFrame(inputData)\n",
    "df"
   ]
  },
  {
   "cell_type": "markdown",
   "metadata": {},
   "source": [
    "### Reading Data Using Requests Package"
   ]
  },
  {
   "cell_type": "code",
   "execution_count": 9,
   "metadata": {},
   "outputs": [],
   "source": [
    "import requests"
   ]
  },
  {
   "cell_type": "code",
   "execution_count": 107,
   "metadata": {},
   "outputs": [
    {
     "data": {
      "text/plain": [
       "<Response [200]>"
      ]
     },
     "execution_count": 107,
     "metadata": {},
     "output_type": "execute_result"
    }
   ],
   "source": [
    "url = \"https://finance.yahoo.com/quote/AAPL?p=AAPL\"\n",
    "response = requests.get(url)\n",
    "response"
   ]
  },
  {
   "cell_type": "code",
   "execution_count": 108,
   "metadata": {},
   "outputs": [
    {
     "data": {
      "text/plain": [
       "200"
      ]
     },
     "execution_count": 108,
     "metadata": {},
     "output_type": "execute_result"
    }
   ],
   "source": [
    "response.status_code"
   ]
  },
  {
   "cell_type": "code",
   "execution_count": 210,
   "metadata": {},
   "outputs": [],
   "source": [
    "Indicators = {\n",
    "    \"Previous Close\": [],\n",
    "    \"Open\": [],\n",
    "    \"Bid\": [],\n",
    "    \"Ask\": [],\n",
    "    #\"Day&#x27;s Range\": [],\n",
    "    #\"52 Week Range\": [],\n",
    "    \"Volume\": [],\n",
    "    \"Avg. Volume\": [],\n",
    "    \"Market Cap\": [],\n",
    "    \"Beta (5Y Monthly)\": [],\n",
    "    \"PE Ratio (TTM)\": [],\n",
    "    \"EPS (TTM)\": [],\n",
    "    \"Earnings Date\": [],\n",
    "    #\"Forward Dividend &amp; Yield\": [],\n",
    "    \"Ex-Dividend Date\": [],\n",
    "    \"1y Target Est\": []\n",
    "}\n",
    "\n",
    "Indicators2 = {\"Day&#x27;s Range\": [],\n",
    "               \"52 Week Range\": [],\n",
    "               \"Forward Dividend &amp; Yield\": []}"
   ]
  },
  {
   "cell_type": "code",
   "execution_count": 211,
   "metadata": {},
   "outputs": [],
   "source": [
    "htmlText = response.text\n",
    "# print(htmlText)"
   ]
  },
  {
   "cell_type": "code",
   "execution_count": 387,
   "metadata": {},
   "outputs": [
    {
     "data": {
      "text/plain": [
       "2"
      ]
     },
     "execution_count": 387,
     "metadata": {},
     "output_type": "execute_result"
    }
   ],
   "source": [
    "# Example on split\n",
    "splitList = htmlText.split(\"Forward Dividend &amp; Yield\")\n",
    "len(splitList)"
   ]
  },
  {
   "cell_type": "code",
   "execution_count": 388,
   "metadata": {},
   "outputs": [],
   "source": [
    "afterFirstSplit = splitList[1].split('\">')\n",
    "# afterSecondSplit = afterFirstSplit[2].split(\"</span>\")\n",
    "# data = afterFirstSplit[1].split(\"</td>\")[0]\n",
    "# Convert a string into a float\n",
    "# float(data.replace(\",\", \"\"))\n",
    "# afterFirstSplit[1]\n",
    "# data"
   ]
  },
  {
   "cell_type": "code",
   "execution_count": 389,
   "metadata": {},
   "outputs": [],
   "source": [
    "# Or use locale library to convert string to numeric\n",
    "# import locale\n",
    "# locale.setlocale( locale.LC_ALL, 'en_US.UTF-8' ) \n",
    "# locale.atof(data)"
   ]
  },
  {
   "cell_type": "code",
   "execution_count": 390,
   "metadata": {},
   "outputs": [
    {
     "name": "stdout",
     "output_type": "stream",
     "text": [
      "{'Previous Close': ['289.91', '176.59', '87.28', '89.83', '171.01', '212.05', '58.89', '331.20', '46.63', '176.59', '87.28', '89.83', '171.01', '212.05', '58.89', '331.20', '46.63', '159.27', '19.93', '176.59', '87.28', '89.83', '89.83'], 'Open': ['291.12', '176.65', '87.49', '89.98', '171.73', '212.45', '59.21', '332.88', '46.85', '176.65', '87.49', '89.98', '171.73', '212.45', '59.21', '332.88', '46.85', '159.47', '19.91', '176.65', '87.49', '89.98', '89.98'], 'Bid': ['289.95 x 800', '176.97 x 800', '87.34 x 900', '89.20 x 1000', '<td class=\"C($primaryColor) W(51%)\" data-reactid=\"27', '198.00 x 1300', '57.04 x 900', '326.01 x 900', '46.05 x 800', '177.12 x 800', '87.34 x 900', '89.20 x 1000', '161.93 x 1100', '198.01 x 800', '57.04 x 900', '326.01 x 900', '46.05 x 800', '<td class=\"C($primaryColor) W(51%)\" data-reactid=\"27', '<td class=\"C($primaryColor) W(51%)\" data-reactid=\"27', '177.12 x 800', '87.34 x 900', '89.20 x 1000', '89.20 x 1000'], 'Ask': ['290.00 x 1300', '177.80 x 800', '87.68 x 900', '89.79 x 900', '185.00 x 800', '219.88 x 1100', '59.98 x 3000', '331.00 x 800', '46.08 x 3200', '177.80 x 1100', '87.68 x 900', '89.79 x 1400', '185.00 x 800', '219.88 x 1200', '59.98 x 3000', '331.00 x 800', '46.08 x 3200', '<td class=\"C($primaryColor) W(51%)\" data-reactid=\"31', '<td class=\"C($primaryColor) W(51%)\" data-reactid=\"31', '177.80 x 1100', '87.70 x 1100', '89.79 x 1400', '89.79 x 1400'], 'Volume': ['35,447,203', '1472999', '2508643', '4087837', '360,453', '1292186', '3386409', '1229983', '36,206,482', '1472999', '2508643', '4087837', '360,453', '1292186', '3386409', '1229983', '36,206,482', '487,179', '2250393', '1472999', '2508643', '4087837', '4087837'], 'Avg. Volume': ['25,691,750', '2,723,201', '4,634,612', '7,349,574', '760,300', '1,779,934', '6,680,803', '2,492,853', '51,055,161', '2,723,201', '4,634,612', '7,349,574', '760,300', '1,779,934', '6,680,803', '2,492,853', '51,055,161', '967,063', '5,378,726', '2,723,201', '4,634,612', '7,349,574', '7,349,574'], 'Market Cap': ['1.3T', '102B', '155B', '132B', '7.6B', '135B', '45B', '160B', '54B', '102B', '155B', '132B', '7.6B', '135B', '45B', '160B', '54B', '11B', '13B', '102B', '155B', '132B', '132B'], 'Beta (5Y Monthly)': ['1.23', '1.10', '1.11', '0.95', '0.32', '1.04', '0.82', '1.10', '3.08', '1.10', '1.11', '0.95', '0.32', '1.04', '0.82', '1.10', '3.08', '0.83', '1.08', '1.10', '1.11', '0.95', '0.95'], 'PE Ratio (TTM)': ['24.37', '21.02', '47.50', '40.97', '35.34', '28.31', '28.05', '55.13', '241.78', '21.02', '47.50', '40.97', '35.34', '28.31', '28.05', '55.13', '241.78', '25.65', '26.22', '21.02', '47.50', '40.97', '40.97'], 'EPS (TTM)': ['11.89', '8.43', '1.84', '2.18', '4.79', '7.49', '2.11', '6.00', '0.19', '8.43', '1.84', '2.18', '4.79', '7.49', '2.11', '6.00', '0.19', '6.17', '0.76', '8.43', '1.84', '2.18', '2.18'], 'Earnings Date': ['Jan 27, 2020', 'Jan 27, 2020', 'Jan 21, 2020', 'Jan 23, 2020', 'Jan 29, 2020', 'Mar 26, 2020', 'Feb 10, 2020', 'Mar 12, 2020', 'Jan 27, 2020', 'Jan 27, 2020', 'Jan 21, 2020', 'Jan 23, 2020', 'Jan 29, 2020', 'Mar 26, 2020', 'Feb 10, 2020', 'Mar 12, 2020', 'Jan 27, 2020', 'Feb 17, 2020', 'Feb 25, 2020', 'Jan 27, 2020', 'Jan 21, 2020', 'Jan 23, 2020', 'Jan 23, 2020'], 'Ex-Dividend Date': ['2019-11-07', '2019-11-21', '2020-01-14', '2020-01-14', 'N/A', '2020-01-15', '2019-03-27', '2005-03-24', '1995-04-27', '2019-11-21', '2020-01-14', '2020-01-14', 'N/A', '2020-01-15', '2019-03-27', '2005-03-24', '1995-04-27', '2019-12-19', '2020-01-30', '2019-11-21', '2020-01-14', '2020-01-14', '2020-01-14'], '1y Target Est': ['266.22', '171.44', '94.70', '96.10', '226.60', '219.50', '60.63', '340.65', '37.77', '171.44', '94.70', '96.10', '226.60', '219.50', '60.63', '340.65', '37.77', '170.93', '19.50', '171.44', '94.70', '96.10', '96.10'], 'Day&#x27;s Range': ['288.12 - 293.97', '175.62 - 177.54', '87.02 - 87.75', '88.83 - 90.28', '169.16 - 172.36', '211.61 - 212.63', '58.78 - 59.59', '329.80 - 332.88', '45.97 - 46.88', '175.62 - 177.54', '87.02 - 87.75', '88.83 - 90.28', '169.16 - 172.36', '211.61 - 212.63', '58.78 - 59.59', '329.80 - 332.88', '45.97 - 46.88', '158.00 - 159.75', '19.80 - 19.99', '175.62 - 177.54', '87.02 - 87.75', '88.83 - 90.28', '88.83 - 90.28'], '52 Week Range': ['142.00 - 293.97', '150.58 - 219.75', '65.50 - 89.24', '62.66 - 92.99', '155.02 - 364.31', '135.58 - 213.25', '39.85 - 59.75', '215.15 - 332.88', '16.94 - 47.31', '150.58 - 219.75', '65.50 - 89.24', '62.66 - 92.99', '155.02 - 364.31', '135.58 - 213.25', '39.85 - 59.75', '215.15 - 332.88', '16.94 - 47.31', '130.09 - 182.56', '13.97 - 19.99', '150.58 - 219.75', '65.50 - 89.24', '62.66 - 92.99', '62.66 - 92.99'], 'Forward Dividend &amp; Yield': ['3.08 (1.06%)', '5.76 (3.26%)', '1.44 (1.65%)', '4.72 (5.25%)', 'N/A (N/A)', '3.20 (1.51%)', '0.37 (0.63%)', 'N/A (N/A)', 'N/A (N/A)', '5.76 (3.26%)', '1.44 (1.65%)', '4.72 (5.25%)', 'N/A (N/A)', '3.20 (1.51%)', '0.37 (0.63%)', 'N/A (N/A)', 'N/A (N/A)', '0.24 (0.15%)', '0.57 (2.87%)', '5.76 (3.26%)', '1.44 (1.65%)', '4.72 (5.25%)', '4.72 (5.25%)']}\n"
     ]
    }
   ],
   "source": [
    "for indicator in Indicators:\n",
    "    # print(indicator)\n",
    "    splitList = htmlText.split(indicator)\n",
    "    afterFirstSplit = splitList[1].split('\">')\n",
    "    afterSecondSplit = afterFirstSplit[2].split(\"</span>\")\n",
    "    dataValue = afterSecondSplit[0]\n",
    "    Indicators[indicator].append(dataValue)\n",
    "\n",
    "for indicator in Indicators2:\n",
    "    splitList2 = htmlText.split(indicator)\n",
    "    afterFirstSplit2 = splitList2[1].split('\">')\n",
    "    afterSecondSplit2 = afterFirstSplit2[1].split(\"</td>\")\n",
    "    dataValue2 = afterSecondSplit2[0]\n",
    "    Indicators2[indicator].append(dataValue2)\n",
    "    \n",
    "# Merge the two dictionaries into updatedIndicators\n",
    "updatedIndicators = {**Indicators, **Indicators2}\n",
    "print(updatedIndicators)"
   ]
  },
  {
   "cell_type": "markdown",
   "metadata": {},
   "source": [
    "### Examples to Merge Dictionaries"
   ]
  },
  {
   "cell_type": "code",
   "execution_count": 216,
   "metadata": {},
   "outputs": [
    {
     "data": {
      "text/plain": [
       "{'Mark': [11, 18],\n",
       " 'Rose': 22,\n",
       " 'Wong': 22,\n",
       " 'Ritika': 5,\n",
       " 'Sam': [20, 7],\n",
       " 'John': 10,\n",
       " 'Aadi': 8}"
      ]
     },
     "execution_count": 216,
     "metadata": {},
     "output_type": "execute_result"
    }
   ],
   "source": [
    "# Example to merge dictionaries with common keys\n",
    "def mergeDict(dict1, dict2):\n",
    "   ''' Merge dictionaries and keep values of common keys in list'''\n",
    "   dict3 = {**dict1, **dict2}\n",
    "   for key, value in dict3.items():\n",
    "       if key in dict1 and key in dict2:\n",
    "               dict3[key] = [value , dict1[key]]\n",
    " \n",
    "   return dict3\n",
    "\n",
    "# Create first dictionary\n",
    "dict1 = {  'Ritika': 5, 'Sam': 7, 'John' : 10 }\n",
    " \n",
    "# Create second dictionary\n",
    "dict2 = {'Aadi': 8,'Sam': 20,'Mark' : 11 }\n",
    " \n",
    "# Third Dictionary\n",
    "dict3 = {'Mark': 18, 'Rose': 22, 'Wong': 22}\n",
    " \n",
    "# Merge 3 dictionary and keep values of common keys in a list\n",
    "finalDict = mergeDict(dict3, mergeDict(dict1, dict2))\n",
    "finalDict"
   ]
  },
  {
   "cell_type": "markdown",
   "metadata": {},
   "source": [
    "### Extracting Company Names"
   ]
  },
  {
   "cell_type": "code",
   "execution_count": 352,
   "metadata": {},
   "outputs": [],
   "source": [
    "wikiURL = \"https://en.wikipedia.org/wiki/List_of_S%26P_500_companies\"\n",
    "wikiResponse = requests.get(wikiURL)\n",
    "\n",
    "# Initialize a data dictionary\n",
    "data = {\"Company\": []}\n",
    "\n",
    "# Print the text of the wiki URL\n",
    "wikiText = wikiResponse.text\n",
    "#wikiText"
   ]
  },
  {
   "cell_type": "code",
   "execution_count": 317,
   "metadata": {},
   "outputs": [],
   "source": [
    "# wikiSplitList = wikiText.split(\"CIK\")\n",
    "# print(len(wikiSplitList))\n",
    "# wikiSplitList[0].split(\"CIK\")[1].split('\">')[1].split(\"</a\")[0]\n",
    "# wikiSplitList[1].split('\">')[1].split(\"</a\")[0]\n",
    "# wikiSplitList[100].split(\"reports\")[1].split('\">')[2].split(\"</a\")[0]"
   ]
  },
  {
   "cell_type": "code",
   "execution_count": 378,
   "metadata": {},
   "outputs": [],
   "source": [
    "wikiFirstParse = wikiText.split(\"0001555280\")[0]  # The last company CIK in the list. Get the everything before it\n",
    "# Now split at S&amp;P 500 component stocks\n",
    "wikiDataTable = wikiFirstParse.split(\"component stocks\")[3]"
   ]
  },
  {
   "cell_type": "code",
   "execution_count": 381,
   "metadata": {},
   "outputs": [
    {
     "name": "stdout",
     "output_type": "stream",
     "text": [
      "['MMM', 'ABT', 'ABBV', 'ABMD', 'ACN', 'ATVI', 'ADBE', 'AMD', 'AAP', 'AES', 'AMG', 'AFL', 'A', 'APD', 'AKAM', 'ALK', 'ALB', 'ARE', 'ALXN', 'ALGN', 'ALLE', 'AGN', 'ADS', 'LNT', 'ALL', 'GOOGL', 'GOOG', 'MO', 'AMZN', 'AMCR', 'AEE', 'AAL', 'AEP', 'AXP', 'AIG', 'AMT', 'AWK', 'AMP', 'ABC', 'AME', 'AMGN', 'APH', 'ADI', 'ANSS', 'ANTM', 'AON', 'AOS', 'APA', 'AIV', 'AAPL', 'AMAT', 'APTV', 'ADM', 'ARNC', 'ANET', 'AJG', 'AIZ', 'ATO', 'T', 'ADSK', 'ADP', 'AZO', 'AVB', 'AVY', 'BKR', 'BLL', 'BAC', 'BK', 'BAX', 'BDX', 'BRK.B', 'BBY', 'BIIB', 'BLK', 'BA', 'BKNG', 'BWA', 'BXP', 'BSX', 'BMY', 'AVGO', 'BR', 'BF.B', 'CHRW', 'COG', 'CDNS', 'CPB', 'COF', 'CPRI', 'CAH', 'KMX', 'CCL', 'CAT', 'CBRE', 'CDW', 'CE', 'CNC', 'CNP', 'CTL', 'CERN', 'CF', 'SCHW', 'CHTR', 'CVX', 'CMG', 'CB', 'CHD', 'CI', 'XEC', 'CINF', 'CTAS', 'CSCO', 'C', 'CFG', 'CTXS', 'CLX', 'CME', 'CMS', 'KO', 'CTSH', 'CL', 'CMCSA', 'CMA', 'CAG', 'CXO', 'COP', 'ED', 'STZ', 'COO', 'CPRT', 'GLW', 'CTVA', 'COST', 'COTY', 'CCI', 'CSX', 'CMI', 'CVS', 'DHI', 'DHR', 'DRI', 'DVA', 'DE', 'DAL', 'XRAY', 'DVN', 'FANG', 'DLR', 'DFS', 'DISCA', 'DISCK', 'DISH', 'DG', 'DLTR', 'D', 'DOV', 'DOW', 'DTE', 'DUK', 'DRE', 'DD', 'DXC', 'ETFC', 'EMN', 'ETN', 'EBAY', 'ECL', 'EIX', 'EW', 'EA', 'EMR', 'ETR', 'EOG', 'EFX', 'EQIX', 'EQR', 'ESS', 'EL', 'EVRG', 'ES', 'RE', 'EXC', 'EXPE', 'EXPD', 'EXR', 'XOM', 'FFIV', 'FB', 'FAST', 'FRT', 'FDX', 'FIS', 'FITB', 'FE', 'FRC', 'FISV', 'FLT', 'FLIR', 'FLS', 'FMC', 'F', 'FTNT', 'FTV', 'FBHS', 'FOXA', 'FOX', 'BEN', 'FCX', 'GPS', 'GRMN', 'IT', 'GD', 'GE', 'GIS', 'GM', 'GPC', 'GILD', 'GL', 'GPN', 'GS', 'GWW', 'HRB', 'HAL', 'HBI', 'HOG', 'HIG', 'HAS', 'HCA', 'PEAK', 'HP', 'HSIC', 'HSY', 'HES', 'HPE', 'HLT', 'HFC', 'HOLX', 'HD', 'HON', 'HRL', 'HST', 'HPQ', 'HUM', 'HBAN', 'HII', 'IEX', 'IDXX', 'INFO', 'ITW', 'ILMN', 'IR', 'INTC', 'ICE', 'IBM', 'INCY', 'IP', 'IPG', 'IFF', 'INTU', 'ISRG', 'IVZ', 'IPGP', 'IQV', 'IRM', 'JKHY', 'J', 'JBHT', 'SJM', 'JNJ', 'JCI', 'JPM', 'JNPR', 'KSU', 'K', 'KEY', 'KEYS', 'KMB', 'KIM', 'KMI', 'KLAC', 'KSS', 'KHC', 'KR', 'LB', 'LHX', 'LH', 'LRCX', 'LW', 'LVS', 'LEG', 'LDOS', 'LEN', 'LLY', 'LNC', 'LIN', 'LKQ', 'LMT', 'L', 'LOW', 'LYB', 'MTB', 'MAC', 'M', 'MRO', 'MPC', 'MKTX', 'MAR', 'MMC', 'MLM', 'MAS', 'MA', 'MKC', 'MXIM', 'MCD', 'MCK', 'MDT', 'MRK', 'MET', 'MTD', 'MGM', 'MCHP', 'MU', 'MSFT', 'MAA', 'MHK', 'TAP', 'MDLZ', 'MNST', 'MCO', 'MS', 'MOS', 'MSI', 'MSCI', 'MYL', 'NDAQ', 'NOV', 'NTAP', 'NFLX', 'NWL', 'NEM', 'NWSA', 'NWS', 'NEE', 'NLSN', 'NKE', 'NI', 'NBL', 'JWN', 'NSC', 'NTRS', 'NOC', 'NLOK', 'NCLH', 'NRG', 'NUE', 'NVDA', 'NVR', 'ORLY', 'OXY', 'ODFL', 'OMC', 'OKE', 'ORCL', 'PCAR', 'PKG', 'PH', 'PAYX', 'PYPL', 'PNR', 'PBCT', 'PEP', 'PKI', 'PRGO', 'PFE', 'PM', 'PSX', 'PNW', 'PXD', 'PNC', 'PPG', 'PPL', 'PFG', 'PG', 'PGR', 'PLD', 'PRU', 'PEG', 'PSA', 'PHM', 'PVH', 'QRVO', 'PWR', 'QCOM', 'DGX', 'RL', 'RJF', 'RTN', 'O', 'REG', 'REGN', 'RF', 'RSG', 'RMD', 'RHI', 'ROK', 'ROL', 'ROP', 'ROST', 'RCL', 'SPGI', 'CRM', 'SBAC', 'SLB', 'STX', 'SEE', 'SRE', 'NOW', 'SHW', 'SPG', 'SWKS', 'SLG', 'SNA', 'SO', 'LUV', 'SWK', 'SBUX', 'STT', 'SYK', 'SIVB', 'SYF', 'SNPS', 'SYY', 'TMUS', 'TROW', 'TTWO', 'TPR', 'TGT', 'TEL', 'FTI', 'TFX', 'TXN', 'TXT', 'TMO', 'TIF', 'TJX', 'TSCO', 'TDG', 'TRV', 'TRIP', 'TFC', 'TWTR', 'TSN', 'UDR', 'ULTA', 'USB', 'UAA', 'UA', 'UNP', 'UAL', 'UNH', 'UPS', 'URI', 'UTX', 'UHS', 'UNM', 'VFC', 'VLO', 'VAR', 'VTR', 'VRSN', 'VRSK', 'VZ', 'VRTX', 'VIAC', 'V', 'VNO', 'VMC', 'WRB', 'WAB', 'WMT', 'WBA', 'DIS', 'WM', 'WAT', 'WEC', 'WCG', 'WFC', 'WELL', 'WDC', 'WU', 'WRK', 'WY', 'WHR', 'WMB', 'WLTW', 'WYNN', 'XEL', 'XRX', 'XLNX', 'XYL', 'YUM', 'ZBH', 'ZION', 'ZTS']\n"
     ]
    }
   ],
   "source": [
    "hyperLinkSplitWiki = wikiDataTable.split(\"href=\")   # There are 4 hyperlinks. We start at poition 5 and increment by 4\n",
    "\n",
    "#for position in range(len(hyperLinkSplitWiki)):\n",
    " #   if position > start:\n",
    "  #      tracker = (position - (start + 1)) % 4\n",
    "   #     if tracker == 0:\n",
    "    #        print(hyperLinkSplitWiki[position])\n",
    "     #       tempData = hyperLinkSplitWiki[position].split('\">')[1].split(\"</\")[0]\n",
    "      #      data[\"Company\"].append(tempData)\n",
    "       #     if len(tempData) > 6:\n",
    "        #        break\n",
    "                \n",
    "data = {\"Company\": []}\n",
    "start = 4\n",
    "for position in range(len(hyperLinkSplitWiki)):\n",
    "    # print(hyperLinkSplitWiki[position])       # The tickers are either coming from nyse or nasdaq sites\n",
    "    if position > start: \n",
    "        if \"nyse\" in hyperLinkSplitWiki[position]:\n",
    "            if \"quote\" in hyperLinkSplitWiki[position]:\n",
    "                tempData = hyperLinkSplitWiki[position].split('\">')[1].split(\"</\")[0]\n",
    "                data[\"Company\"].append(tempData)\n",
    "    #if len(tempData) > 6:\n",
    "     #   break\n",
    "        elif \"nasdaq\" in hyperLinkSplitWiki[position]:\n",
    "            if \"symbol\" in hyperLinkSplitWiki[position]:\n",
    "                tempData = hyperLinkSplitWiki[position].split('\">')[1].split(\"</\")[0]\n",
    "                data[\"Company\"].append(tempData)\n",
    "print(data[\"Company\"])"
   ]
  },
  {
   "cell_type": "code",
   "execution_count": null,
   "metadata": {},
   "outputs": [],
   "source": [
    "for tickerSymbol in data[\"Company\"]:\n",
    "    url = (\"https://finance.yahoo.com/quote/\"+tickerSymbol+\"?p=\"+tickerSymbol)\n",
    "    response = requests.get(url)\n",
    "    htmlText = response.text\n",
    "    \n",
    "    for indicator in Indicators:\n",
    "        try:\n",
    "    # print(indicator)\n",
    "            splitList = htmlText.split(indicator)\n",
    "            afterFirstSplit = splitList[1].split('\">')\n",
    "            afterSecondSplit = afterFirstSplit[2].split(\"</span>\")\n",
    "            dataValue = afterSecondSplit[0]\n",
    "            Indicators[indicator].append(dataValue)\n",
    "        except:\n",
    "            Indicators[indicator].append(\"N/A\")\n",
    "\n",
    "    for indicator in Indicators2:\n",
    "        try:\n",
    "            splitList2 = htmlText.split(indicator)\n",
    "            afterFirstSplit2 = splitList2[1].split('\">')\n",
    "            afterSecondSplit2 = afterFirstSplit2[1].split(\"</td>\")\n",
    "            dataValue2 = afterSecondSplit2[0]\n",
    "            Indicators2[indicator].append(dataValue2)\n",
    "        except:\n",
    "            Indicators2[indicator].append(\"N/A\")\n",
    "    \n",
    "        # Merge the two dictionaries into updatedIndicators\n",
    "        updatedIndicators = {**Indicators, **Indicators2}\n",
    "\n",
    "#data.update(updatedIndicators)\n",
    "#df = pd.DataFrame(data)"
   ]
  },
  {
   "cell_type": "code",
   "execution_count": null,
   "metadata": {},
   "outputs": [],
   "source": []
  }
 ],
 "metadata": {
  "kernelspec": {
   "display_name": "Python 3",
   "language": "python",
   "name": "python3"
  },
  "language_info": {
   "codemirror_mode": {
    "name": "ipython",
    "version": 3
   },
   "file_extension": ".py",
   "mimetype": "text/x-python",
   "name": "python",
   "nbconvert_exporter": "python",
   "pygments_lexer": "ipython3",
   "version": "3.7.3"
  }
 },
 "nbformat": 4,
 "nbformat_minor": 2
}
